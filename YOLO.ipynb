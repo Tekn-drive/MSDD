{
 "cells": [
  {
   "cell_type": "code",
   "execution_count": null,
   "id": "300c03fb-efc4-4f01-a4b7-f6571bed4b37",
   "metadata": {},
   "outputs": [],
   "source": [
    "import os\n",
    "import shutil\n",
    "from ultralytics import YOLO\n",
    "import torch\n",
    "from statistics import mean"
   ]
  },
  {
   "cell_type": "code",
   "execution_count": null,
   "id": "f2ffcc4d-9e5d-4af8-b5da-a9b12090a58c",
   "metadata": {},
   "outputs": [],
   "source": [
    "folders = [\"datasets_b\", \"datasets_m\", \"datasets_c\", \"datasets_o\", \"datasets_p\", \"datasets_s\"]\n",
    "base_directory = os.getcwd()\n",
    "\n",
    "def rotate_working_folder(folders_array, base_path):\n",
    "    missing_name = None\n",
    "    missing_index = -1\n",
    "    \n",
    "    for i, folder_name in enumerate(folders_array):\n",
    "        folder_path = os.path.join(base_path, folder_name)\n",
    "        if not os.path.exists(folder_path):\n",
    "            missing_name = folder_name\n",
    "            missing_index = i\n",
    "            break\n",
    "    \n",
    "    if missing_name is None:\n",
    "        print(\"All folders exist - no changes needed\")\n",
    "        return\n",
    "    \n",
    "    print(f\"Found missing folder: {missing_name} at position {missing_index}\")\n",
    "    x_folder = \"datasets\" \n",
    "    next_index = (missing_index + 1) % len(folders_array)\n",
    "    next_name = folders_array[next_index]\n",
    "    next_path = os.path.join(base_path, next_name)\n",
    "    \n",
    "    if not os.path.exists(next_path):\n",
    "        print(f\"Next folder {next_name} also missing - cannot perform rotation\")\n",
    "        return\n",
    "\n",
    "    temp_name = f\"{x_folder}_temp\"\n",
    "    temp_path = os.path.join(base_path, temp_name)\n",
    "    \n",
    "    try:\n",
    "        shutil.move(next_path, temp_path)\n",
    "        print(f\"Renamed {next_name} to temporary {temp_name}\")\n",
    "        \n",
    "        x_path = os.path.join(base_path, x_folder)\n",
    "        if os.path.exists(x_path):\n",
    "            shutil.move(x_path, os.path.join(base_path, missing_name))\n",
    "            print(f\"Renamed {x_folder} to {missing_name}\")\n",
    "        \n",
    "        shutil.move(temp_path, os.path.join(base_path, x_folder))\n",
    "        print(f\"Renamed {temp_name} to {x_folder}\")\n",
    "        \n",
    "        print(\"Rotation completed successfully\")\n",
    "    except Exception as e:\n",
    "        print(f\"Error during renaming: {e}\")\n",
    "        if os.path.exists(temp_path):\n",
    "            shutil.move(temp_path, next_path)\n",
    "    return missing_name"
   ]
  },
  {
   "cell_type": "code",
   "execution_count": null,
   "id": "b1bb4663-07d5-4a74-9838-969e9f58452f",
   "metadata": {},
   "outputs": [],
   "source": [
    "model = YOLO(\"yolo11l.pt\")"
   ]
  },
  {
   "cell_type": "code",
   "execution_count": null,
   "id": "8d8bf516-6673-448b-b92b-2d58f1ce006b",
   "metadata": {},
   "outputs": [],
   "source": [
    "torch.cuda.empty_cache()\n",
    "print(torch.cuda.is_available())\n",
    "torch.cuda.get_device_name(0)"
   ]
  },
  {
   "cell_type": "code",
   "execution_count": null,
   "id": "f210c811-d591-47c1-b666-2e75bacc505d",
   "metadata": {},
   "outputs": [],
   "source": [
    "metrics_dict = dict()\n",
    "arr_name = []\n",
    "arr_v = []\n",
    "for i in range(6):\n",
    "    model = YOLO(\"yolo11l.pt\")\n",
    "    model.train(data=\"datasets/data.yaml\", epochs=300, imgsz=640, batch = 4, device = 0, patience = 5 )\n",
    "    vals = model.val()\n",
    "    hc = rotate_working_folder(folders, base_directory)\n",
    "    metrics_dict[hc] = vals\n",
    "    arr_name.append(hc)\n",
    "    arr_v.append(vals)"
   ]
  },
  {
   "cell_type": "code",
   "execution_count": null,
   "id": "b72b228d-acf2-4b7e-9021-8eb41f93f559",
   "metadata": {},
   "outputs": [],
   "source": [
    "names = {\"datasets_b\": \"oreo\", \"datasets_m\": \"milk\", \"datasets_c\": \"coffee\", \"datasets_o\":\"oil\", \"datasets_p\":\"pocky\", \"datasets_s\":\"candy\"}\n",
    "for e in folders:\n",
    "    print(names[e])\n",
    "    print(metrics_dict[e].box.map50)\n",
    "    print(metrics_dict[e].box.map)\n",
    "    print(mean(metrics_dict[e].box.p))\n",
    "    print(mean(metrics_dict[e].box.r))\n",
    "    print(\"-------------------\")"
   ]
  }
 ],
 "metadata": {
  "kernelspec": {
   "display_name": "Python 3 (ipykernel)",
   "language": "python",
   "name": "python3"
  },
  "language_info": {
   "codemirror_mode": {
    "name": "ipython",
    "version": 3
   },
   "file_extension": ".py",
   "mimetype": "text/x-python",
   "name": "python",
   "nbconvert_exporter": "python",
   "pygments_lexer": "ipython3",
   "version": "3.12.3"
  }
 },
 "nbformat": 4,
 "nbformat_minor": 5
}
